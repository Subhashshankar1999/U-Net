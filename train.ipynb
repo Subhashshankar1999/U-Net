{
 "cells": [
  {
   "cell_type": "code",
   "execution_count": 1,
   "id": "1d5e299d",
   "metadata": {},
   "outputs": [],
   "source": [
    "import os\n",
    "import time\n",
    "from glob import glob\n",
    "\n",
    "import torch\n",
    "from torch.utils.data import DataLoader\n",
    "import torch.nn as nn\n",
    "\n",
    "from data import DriveDataset\n",
    "from model import build_unet\n",
    "from loss import DiceLoss, DiceBCELoss\n",
    "from utils import seeding, create_dir, epoch_time"
   ]
  },
  {
   "cell_type": "code",
   "execution_count": 2,
   "id": "ffe13e41",
   "metadata": {},
   "outputs": [],
   "source": [
    "def train(model, loader, optimizer, loss_fn, device):\n",
    "    epoch_loss =0.0\n",
    "    model.train()\n",
    "    for x, y in loader:\n",
    "        x = x.to(device, dtype = torch.float32)\n",
    "        y = y.to(device, dtype = torch.float32)\n",
    "        optimizer.zero_grad()\n",
    "        y_pred = model(x)\n",
    "        \n",
    "        loss = loss_fn(y_pred, y)\n",
    "        \n",
    "        \n",
    "        loss.backward()\n",
    "        optimizer.step()\n",
    "        epoch_loss += loss.item()\n",
    "        \n",
    "    epoch_loss = epoch_loss/len(loader)\n",
    "    return epoch_loss"
   ]
  },
  {
   "cell_type": "code",
   "execution_count": 3,
   "id": "ef675a4d",
   "metadata": {},
   "outputs": [
    {
     "name": "stdout",
     "output_type": "stream",
     "text": [
      "1.285780017192547\n",
      "1.1103428556368902\n",
      "1.0498978449748113\n",
      "1.0438353969500616\n",
      "0.9184735692464389\n",
      "0.9316230507997366\n",
      "0.8879657066785372\n",
      "0.8663774499526391\n",
      "0.8986446811602666\n",
      "0.8717420880611126\n",
      "0.8234169116387\n",
      "0.7695363943393414\n",
      "0.7594384184250464\n",
      "0.7600177984971267\n",
      "0.6255777455293215\n",
      "0.5936291240728818\n",
      "0.5608492493629456\n",
      "0.6022255466534541\n",
      "0.5233489825175359\n",
      "0.47081934259488034\n",
      "0.47225688512508684\n",
      "0.46619802254896897\n",
      "0.460735185788228\n",
      "0.4194659957518944\n",
      "0.41567269426125747\n",
      "0.4494861295590034\n",
      "0.36794994198358977\n",
      "0.39080358010071975\n",
      "0.3721074301462907\n",
      "0.39443698754677403\n",
      "0.36302905357800996\n",
      "0.40151020655265224\n",
      "0.3751687957690312\n",
      "0.339484283557305\n",
      "0.3354173657985834\n",
      "0.28066532428448016\n",
      "0.2943683553200502\n",
      "0.2548070229016818\n",
      "0.26256082035028017\n",
      "0.3314824218933399\n",
      "0.27414755752453435\n",
      "0.272367903819451\n",
      "0.2982219411776616\n",
      "0.26299065122237575\n",
      "0.2855097789030809\n",
      "0.2724028607973686\n",
      "0.2385450555728032\n",
      "0.19900254675975212\n",
      "0.20690267246503097\n",
      "0.24023983340996963\n",
      "0.20326087451898134\n",
      "0.21938793131938347\n",
      "0.1786843160024056\n",
      "0.20138904452323914\n",
      "0.1885436624288559\n",
      "0.19368250782673174\n",
      "0.18865481706765982\n",
      "0.18887973519471976\n",
      "0.23379940482286307\n",
      "0.28879184333177715\n",
      "0.26495603643930876\n",
      "0.3720273799621142\n",
      "0.23832943577032822\n",
      "0.20432798679058367\n",
      "0.17569232903994048\n",
      "0.19765182126026887\n",
      "0.21721175198371595\n",
      "0.18518943167649782\n",
      "0.24364088131831244\n",
      "0.19176092400000647\n"
     ]
    }
   ],
   "source": [
    "if __name__ == \"__main__\":\n",
    "    seeding(42)\n",
    "    \n",
    "    create_dir(\"files\")\n",
    "    \n",
    "    train_x = glob(\"C:/Users/subha/OneDrive/Documents/th_cancer_data/new_image/train/image/*\")\n",
    "    train_y = glob(\"C:/Users/subha/OneDrive/Documents/th_cancer_data/new_image/train/mask/*\")\n",
    "    \n",
    "    \n",
    "    #Hyperparameter\n",
    "    size = (256,128)\n",
    "    batch_size = 4\n",
    "    num_epochs = 70\n",
    "    lr = 1e-4\n",
    "    checkpoint_path = \"files/checkpoint.pth\"\n",
    "    \n",
    "    train_dataset = DriveDataset(train_x, train_y)\n",
    "    \n",
    "    train_loader = DataLoader(\n",
    "        dataset= train_dataset,\n",
    "        batch_size = batch_size,\n",
    "        shuffle = True,\n",
    "        num_workers = 2\n",
    "    )\n",
    "    device = torch.device(\"cuda\")\n",
    "    model = build_unet()\n",
    "    model = model.to(device)\n",
    "    optimizer = torch.optim.Adam(model.parameters(),lr=lr)\n",
    "    scheduler = torch.optim.lr_scheduler.ReduceLROnPlateau(optimizer,\"min\",patience=5,verbose=True)\n",
    "    loss_fn = DiceBCELoss()\n",
    "    training_losses = []\n",
    "    for epoch in range(num_epochs):\n",
    "        start_time = time.time()\n",
    "        \n",
    "        train_loss = train(model, train_loader, optimizer, loss_fn, device)\n",
    "        print(train_loss)\n",
    "        training_losses.append(train_loss)"
   ]
  },
  {
   "cell_type": "code",
   "execution_count": 4,
   "id": "2aa793d5",
   "metadata": {},
   "outputs": [],
   "source": [
    "img = \"C:\\\\Users\\\\subha\\\\OneDrive\\\\Documents\\\\Thyroid Ultrasound Images\\\\90_1.jpg\"\n",
    "mask = \"C:\\\\Users\\\\subha\\\\OneDrive\\\\Documents\\\\Thyroid Ultrasound Images\\\\90_mask1.jpg\""
   ]
  },
  {
   "cell_type": "code",
   "execution_count": 5,
   "id": "c9d42ece",
   "metadata": {},
   "outputs": [],
   "source": [
    "import cv2\n",
    "import numpy as np\n",
    "image = cv2.imread(img, cv2.IMREAD_GRAYSCALE)\n",
    "image = image[58:250,66:450]\n",
    "image = image/255.0\n",
    "image = np.expand_dims(image,axis = 0)\n",
    "image = np.expand_dims(image,axis = 0)\n",
    "image = image.astype(np.float32)\n",
    "image = torch.from_numpy(image)\n",
    "        \n",
    "mask = cv2.imread(mask,cv2.IMREAD_GRAYSCALE)\n",
    "mask = mask[58:250,66:450]         \n",
    "mask = mask/255.0\n",
    "mask = np.expand_dims(mask,axis = 0)\n",
    "mask = mask.astype(np.float32)\n",
    "mask = torch.from_numpy(mask)\n",
    "\n",
    "\n",
    "image = image.to(device, dtype = torch.float32)\n",
    "mask = mask.to(device, dtype = torch.float32)"
   ]
  },
  {
   "cell_type": "code",
   "execution_count": 6,
   "id": "9e862037",
   "metadata": {},
   "outputs": [
    {
     "data": {
      "text/plain": [
       "torch.Size([1, 1, 192, 384])"
      ]
     },
     "execution_count": 6,
     "metadata": {},
     "output_type": "execute_result"
    }
   ],
   "source": [
    "image.shape"
   ]
  },
  {
   "cell_type": "code",
   "execution_count": 7,
   "id": "05ce6c40",
   "metadata": {},
   "outputs": [],
   "source": [
    "torch.save(model.state_dict(), checkpoint_path)"
   ]
  },
  {
   "cell_type": "code",
   "execution_count": 8,
   "id": "4ddf4de8",
   "metadata": {},
   "outputs": [],
   "source": [
    "model.eval()\n",
    "output = model(image)"
   ]
  },
  {
   "cell_type": "code",
   "execution_count": 9,
   "id": "8aef3025",
   "metadata": {},
   "outputs": [
    {
     "data": {
      "text/plain": [
       "tensor(1.2245, device='cuda:0', grad_fn=<AddBackward0>)"
      ]
     },
     "execution_count": 9,
     "metadata": {},
     "output_type": "execute_result"
    }
   ],
   "source": [
    "loss = loss_fn(output, mask)\n",
    "loss"
   ]
  },
  {
   "cell_type": "code",
   "execution_count": 10,
   "id": "2148d5e4",
   "metadata": {},
   "outputs": [],
   "source": [
    "output = output*255\n",
    "output = output.to(\"cpu\", dtype = torch.float32)\n",
    "output = output.detach().numpy()\n",
    "output = np.uint8(output[0][0])"
   ]
  },
  {
   "cell_type": "code",
   "execution_count": 11,
   "id": "67b0dce4",
   "metadata": {},
   "outputs": [
    {
     "data": {
      "text/plain": [
       "array([[ 89, 177, 151, ..., 193, 180, 118],\n",
       "       [ 75, 162, 148, ...,   5,  20, 194],\n",
       "       [ 98, 191, 196, ...,  52, 254, 104],\n",
       "       ...,\n",
       "       [ 94, 180, 193, ..., 238, 168, 135],\n",
       "       [102, 163, 161, ...,   8, 172, 122],\n",
       "       [ 47, 100,  86, ..., 130, 104, 101]], dtype=uint8)"
      ]
     },
     "execution_count": 11,
     "metadata": {},
     "output_type": "execute_result"
    }
   ],
   "source": [
    "output"
   ]
  },
  {
   "cell_type": "code",
   "execution_count": 12,
   "id": "ea4e49ea",
   "metadata": {},
   "outputs": [],
   "source": [
    "#cv2.imshow(output)\n",
    "from PIL import Image\n",
    "img = Image.fromarray(output,mode='L')\n",
    "img.save('train_pic_MK6.png')"
   ]
  },
  {
   "cell_type": "code",
   "execution_count": 13,
   "id": "6d33d3c2",
   "metadata": {},
   "outputs": [
    {
     "data": {
      "text/html": [
       "<div>\n",
       "<style scoped>\n",
       "    .dataframe tbody tr th:only-of-type {\n",
       "        vertical-align: middle;\n",
       "    }\n",
       "\n",
       "    .dataframe tbody tr th {\n",
       "        vertical-align: top;\n",
       "    }\n",
       "\n",
       "    .dataframe thead th {\n",
       "        text-align: right;\n",
       "    }\n",
       "</style>\n",
       "<table border=\"1\" class=\"dataframe\">\n",
       "  <thead>\n",
       "    <tr style=\"text-align: right;\">\n",
       "      <th></th>\n",
       "      <th>0</th>\n",
       "    </tr>\n",
       "  </thead>\n",
       "  <tbody>\n",
       "    <tr>\n",
       "      <th>0</th>\n",
       "      <td>1.285780</td>\n",
       "    </tr>\n",
       "    <tr>\n",
       "      <th>1</th>\n",
       "      <td>1.110343</td>\n",
       "    </tr>\n",
       "    <tr>\n",
       "      <th>2</th>\n",
       "      <td>1.049898</td>\n",
       "    </tr>\n",
       "    <tr>\n",
       "      <th>3</th>\n",
       "      <td>1.043835</td>\n",
       "    </tr>\n",
       "    <tr>\n",
       "      <th>4</th>\n",
       "      <td>0.918474</td>\n",
       "    </tr>\n",
       "    <tr>\n",
       "      <th>...</th>\n",
       "      <td>...</td>\n",
       "    </tr>\n",
       "    <tr>\n",
       "      <th>65</th>\n",
       "      <td>0.197652</td>\n",
       "    </tr>\n",
       "    <tr>\n",
       "      <th>66</th>\n",
       "      <td>0.217212</td>\n",
       "    </tr>\n",
       "    <tr>\n",
       "      <th>67</th>\n",
       "      <td>0.185189</td>\n",
       "    </tr>\n",
       "    <tr>\n",
       "      <th>68</th>\n",
       "      <td>0.243641</td>\n",
       "    </tr>\n",
       "    <tr>\n",
       "      <th>69</th>\n",
       "      <td>0.191761</td>\n",
       "    </tr>\n",
       "  </tbody>\n",
       "</table>\n",
       "<p>70 rows × 1 columns</p>\n",
       "</div>"
      ],
      "text/plain": [
       "           0\n",
       "0   1.285780\n",
       "1   1.110343\n",
       "2   1.049898\n",
       "3   1.043835\n",
       "4   0.918474\n",
       "..       ...\n",
       "65  0.197652\n",
       "66  0.217212\n",
       "67  0.185189\n",
       "68  0.243641\n",
       "69  0.191761\n",
       "\n",
       "[70 rows x 1 columns]"
      ]
     },
     "execution_count": 13,
     "metadata": {},
     "output_type": "execute_result"
    }
   ],
   "source": [
    "import pandas as pd\n",
    "d = pd.DataFrame(training_losses)\n",
    "d"
   ]
  },
  {
   "cell_type": "code",
   "execution_count": 14,
   "id": "d77c7674",
   "metadata": {},
   "outputs": [],
   "source": [
    "d.to_csv ('train_MK6.csv')"
   ]
  },
  {
   "cell_type": "code",
   "execution_count": 17,
   "id": "1b044996",
   "metadata": {},
   "outputs": [],
   "source": [
    "from torchsummary import summary"
   ]
  },
  {
   "cell_type": "code",
   "execution_count": 18,
   "id": "b5b97c55",
   "metadata": {},
   "outputs": [
    {
     "name": "stdout",
     "output_type": "stream",
     "text": [
      "----------------------------------------------------------------\n",
      "        Layer (type)               Output Shape         Param #\n",
      "================================================================\n",
      "            Conv2d-1         [-1, 64, 256, 128]             640\n",
      "       BatchNorm2d-2         [-1, 64, 256, 128]             128\n",
      "              ReLU-3         [-1, 64, 256, 128]               0\n",
      "            Conv2d-4         [-1, 64, 256, 128]             640\n",
      "       BatchNorm2d-5         [-1, 64, 256, 128]             128\n",
      "              ReLU-6         [-1, 64, 256, 128]               0\n",
      "        conv_block-7         [-1, 64, 256, 128]               0\n",
      "         MaxPool2d-8          [-1, 64, 128, 64]               0\n",
      "     encoder_block-9  [[-1, 64, 256, 128], [-1, 64, 128, 64]]               0\n",
      "           Conv2d-10         [-1, 128, 128, 64]          73,856\n",
      "      BatchNorm2d-11         [-1, 128, 128, 64]             256\n",
      "             ReLU-12         [-1, 128, 128, 64]               0\n",
      "           Conv2d-13         [-1, 128, 128, 64]          73,856\n",
      "      BatchNorm2d-14         [-1, 128, 128, 64]             256\n",
      "             ReLU-15         [-1, 128, 128, 64]               0\n",
      "       conv_block-16         [-1, 128, 128, 64]               0\n",
      "        MaxPool2d-17          [-1, 128, 64, 32]               0\n",
      "    encoder_block-18  [[-1, 128, 128, 64], [-1, 128, 64, 32]]               0\n",
      "           Conv2d-19          [-1, 256, 64, 32]         295,168\n",
      "      BatchNorm2d-20          [-1, 256, 64, 32]             512\n",
      "             ReLU-21          [-1, 256, 64, 32]               0\n",
      "           Conv2d-22          [-1, 256, 64, 32]         295,168\n",
      "      BatchNorm2d-23          [-1, 256, 64, 32]             512\n",
      "             ReLU-24          [-1, 256, 64, 32]               0\n",
      "       conv_block-25          [-1, 256, 64, 32]               0\n",
      "        MaxPool2d-26          [-1, 256, 32, 16]               0\n",
      "    encoder_block-27  [[-1, 256, 64, 32], [-1, 256, 32, 16]]               0\n",
      "           Conv2d-28          [-1, 512, 32, 16]       1,180,160\n",
      "      BatchNorm2d-29          [-1, 512, 32, 16]           1,024\n",
      "             ReLU-30          [-1, 512, 32, 16]               0\n",
      "           Conv2d-31          [-1, 512, 32, 16]       1,180,160\n",
      "      BatchNorm2d-32          [-1, 512, 32, 16]           1,024\n",
      "             ReLU-33          [-1, 512, 32, 16]               0\n",
      "       conv_block-34          [-1, 512, 32, 16]               0\n",
      "        MaxPool2d-35           [-1, 512, 16, 8]               0\n",
      "    encoder_block-36  [[-1, 512, 32, 16], [-1, 512, 16, 8]]               0\n",
      "           Conv2d-37          [-1, 1024, 16, 8]       4,719,616\n",
      "      BatchNorm2d-38          [-1, 1024, 16, 8]           2,048\n",
      "             ReLU-39          [-1, 1024, 16, 8]               0\n",
      "           Conv2d-40          [-1, 1024, 16, 8]       4,719,616\n",
      "      BatchNorm2d-41          [-1, 1024, 16, 8]           2,048\n",
      "             ReLU-42          [-1, 1024, 16, 8]               0\n",
      "       conv_block-43          [-1, 1024, 16, 8]               0\n",
      "  ConvTranspose2d-44          [-1, 512, 32, 16]       2,097,664\n",
      "           Conv2d-45          [-1, 512, 32, 16]       4,719,104\n",
      "      BatchNorm2d-46          [-1, 512, 32, 16]           1,024\n",
      "             ReLU-47          [-1, 512, 32, 16]               0\n",
      "           Conv2d-48          [-1, 512, 32, 16]       4,719,104\n",
      "      BatchNorm2d-49          [-1, 512, 32, 16]           1,024\n",
      "             ReLU-50          [-1, 512, 32, 16]               0\n",
      "       conv_block-51          [-1, 512, 32, 16]               0\n",
      "    decoder_block-52          [-1, 512, 32, 16]               0\n",
      "  ConvTranspose2d-53          [-1, 256, 64, 32]         524,544\n",
      "           Conv2d-54          [-1, 256, 64, 32]       1,179,904\n",
      "      BatchNorm2d-55          [-1, 256, 64, 32]             512\n",
      "             ReLU-56          [-1, 256, 64, 32]               0\n",
      "           Conv2d-57          [-1, 256, 64, 32]       1,179,904\n",
      "      BatchNorm2d-58          [-1, 256, 64, 32]             512\n",
      "             ReLU-59          [-1, 256, 64, 32]               0\n",
      "       conv_block-60          [-1, 256, 64, 32]               0\n",
      "    decoder_block-61          [-1, 256, 64, 32]               0\n",
      "  ConvTranspose2d-62         [-1, 128, 128, 64]         131,200\n",
      "           Conv2d-63         [-1, 128, 128, 64]         295,040\n",
      "      BatchNorm2d-64         [-1, 128, 128, 64]             256\n",
      "             ReLU-65         [-1, 128, 128, 64]               0\n",
      "           Conv2d-66         [-1, 128, 128, 64]         295,040\n",
      "      BatchNorm2d-67         [-1, 128, 128, 64]             256\n",
      "             ReLU-68         [-1, 128, 128, 64]               0\n",
      "       conv_block-69         [-1, 128, 128, 64]               0\n",
      "    decoder_block-70         [-1, 128, 128, 64]               0\n",
      "  ConvTranspose2d-71         [-1, 64, 256, 128]          32,832\n",
      "           Conv2d-72         [-1, 64, 256, 128]          73,792\n",
      "      BatchNorm2d-73         [-1, 64, 256, 128]             128\n",
      "             ReLU-74         [-1, 64, 256, 128]               0\n",
      "           Conv2d-75         [-1, 64, 256, 128]          73,792\n",
      "      BatchNorm2d-76         [-1, 64, 256, 128]             128\n",
      "             ReLU-77         [-1, 64, 256, 128]               0\n",
      "       conv_block-78         [-1, 64, 256, 128]               0\n",
      "    decoder_block-79         [-1, 64, 256, 128]               0\n",
      "           Conv2d-80          [-1, 1, 256, 128]              65\n",
      "================================================================\n",
      "Total params: 27,872,641\n",
      "Trainable params: 27,872,641\n",
      "Non-trainable params: 0\n",
      "----------------------------------------------------------------\n",
      "Input size (MB): 0.12\n",
      "Forward/backward pass size (MB): 494.75\n",
      "Params size (MB): 106.33\n",
      "Estimated Total Size (MB): 601.20\n",
      "----------------------------------------------------------------\n"
     ]
    }
   ],
   "source": [
    "summary(model, (1, 256,128))"
   ]
  },
  {
   "cell_type": "code",
   "execution_count": null,
   "id": "bd7f3e27",
   "metadata": {},
   "outputs": [],
   "source": []
  }
 ],
 "metadata": {
  "kernelspec": {
   "display_name": "Python 3 (ipykernel)",
   "language": "python",
   "name": "python3"
  },
  "language_info": {
   "codemirror_mode": {
    "name": "ipython",
    "version": 3
   },
   "file_extension": ".py",
   "mimetype": "text/x-python",
   "name": "python",
   "nbconvert_exporter": "python",
   "pygments_lexer": "ipython3",
   "version": "3.9.12"
  }
 },
 "nbformat": 4,
 "nbformat_minor": 5
}
