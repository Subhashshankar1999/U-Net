{
 "cells": [
  {
   "cell_type": "code",
   "execution_count": 1,
   "id": "e51bbbb6",
   "metadata": {},
   "outputs": [],
   "source": [
    "import os\n",
    "import cv2\n",
    "import numpy as np\n",
    "from glob import glob\n",
    "from tqdm import tqdm\n",
    "from albumentations import HorizontalFlip, VerticalFlip, Rotate\n",
    "from matplotlib import pyplot as plt\n",
    "import pywt\n",
    "import pandas as pd\n",
    "import ast"
   ]
  },
  {
   "cell_type": "code",
   "execution_count": 2,
   "id": "5fdea15c",
   "metadata": {},
   "outputs": [],
   "source": [
    "dirr = \"C:\\\\Users\\\\subha\\\\OneDrive\\\\Documents\\\\Thyroid ultrasound image_lite\"    #data path\n",
    "dirr1 = \"C:\\\\Users\\\\subha\\\\OneDrive\\\\Documents\\\\th_cancer\\\\image\"      #Final augmented images save at this path\n",
    "dirr2 = \"C:\\\\Users\\\\subha\\\\OneDrive\\\\Documents\\\\th_cancer\\\\mask\"       #Mask is saved at this path\n",
    "listt = []\n",
    "path = []\n",
    "label_path = []\n",
    "f_data_path = []\n",
    "for i in range(100):\n",
    "    if (i==36 or i==53):\n",
    "        listt.append([])\n",
    "        path.append([])\n",
    "        label_path.append([])\n",
    "        f_data_path.append([])\n",
    "        pass\n",
    "    else:\n",
    "        listt.append([])\n",
    "        path.append([])\n",
    "        label_path.append([])\n",
    "        f_data_path.append([])\n",
    "        n = str(i+1)\n",
    "        p = n + \"_\"\n",
    "        n= n + \".xml\"\n",
    "        path1 = os.path.join(dirr, n)\n",
    "        pt1 = pd.read_xml(path1)\n",
    "        ptt1 = pt1.svg.dropna()\n",
    "        \n",
    "        for j in range(ptt1.count()):\n",
    "            v = p + str(j+1) +\".jpg\"\n",
    "            t = p + str(j+1) +\".jpg\"\n",
    "            path2 = os.path.join(dirr, v)\n",
    "            path3 = os.path.join(dirr2, t)\n",
    "            path4 = os.path.join(dirr1, v)\n",
    "            path[i].append(path2)\n",
    "            label_path[i].append(path3)\n",
    "            f_data_path[i].append(path4)\n",
    "            str1 = ptt1.iloc[j]\n",
    "            list1 = ast.literal_eval(str1)\n",
    "            pt = list1[0].get(\"points\")\n",
    "            listt[i].append(pt)"
   ]
  },
  {
   "cell_type": "code",
   "execution_count": 3,
   "id": "430718b4",
   "metadata": {},
   "outputs": [],
   "source": [
    "def mask_img(img, pt):\n",
    "    blank_image = np.zeros(shape=[img.shape[0], img.shape[1]], dtype=np.uint8)\n",
    "    color = (1)\n",
    "    thickness = 1\n",
    "    for i in range(len(pt)-1):\n",
    "        cv2.line(blank_image, (pt[i].get(\"x\"),pt[i].get(\"y\")), (pt[i+1].get(\"x\"),pt[i+1].get(\"y\")),color, thickness)\n",
    "    for i in range (blank_image.shape[0]):\n",
    "        indices  = [index for (index, item) in enumerate(blank_image[i]) if item == 1]\n",
    "        if (len(indices)!= 0):\n",
    "            for j in range(indices[0],indices[-1]):\n",
    "                blank_image[i][j]=250\n",
    "    return blank_image"
   ]
  },
  {
   "cell_type": "code",
   "execution_count": 4,
   "id": "4debe7df",
   "metadata": {},
   "outputs": [],
   "source": [
    "    \n",
    "def ft(img):                                   #fourier transformation\n",
    "    \n",
    "    dft = cv2.dft(np.float32(img), flags=cv2.DFT_COMPLEX_OUTPUT)\n",
    "    dft_shift = np.fft.fftshift(dft)\n",
    "    magnitude_spectrum = 20 * np.log(cv2.magnitude(dft_shift[:, :, 0], dft_shift[:, :, 1]))\n",
    "    rows, cols = img.shape\n",
    "    crow, ccol = int(rows / 2), int(cols / 2)\n",
    "    mask = np.ones((rows, cols, 2), np.uint8)\n",
    "    r = 7\n",
    "    center = [crow, ccol]\n",
    "    x, y = np.ogrid[:rows, :cols]\n",
    "    mask_area = (x - center[0]) ** 2 + (y - center[1]) ** 2 <= r*r\n",
    "    mask[mask_area] = 0\n",
    "    fshift = dft_shift * mask\n",
    "\n",
    "    fshift_mask_mag = 1000 * np.log(cv2.magnitude(fshift[:, :, 0], fshift[:, :, 1]))\n",
    "\n",
    "    f_ishift = np.fft.ifftshift(fshift)\n",
    "    img_back = cv2.idft(f_ishift)\n",
    "    img_back = cv2.magnitude(img_back[:, :, 0], img_back[:, :, 1])\n",
    "\n",
    "    norm_img = np.zeros((rows, cols))\n",
    "    \n",
    "    ft_img = cv2.normalize(img_back,  norm_img, 0, 255, cv2.NORM_MINMAX)\n",
    "    return ft_img"
   ]
  },
  {
   "cell_type": "code",
   "execution_count": 5,
   "id": "59c09a13",
   "metadata": {},
   "outputs": [],
   "source": [
    "def wt(img):                                            #wavelet transformation\n",
    "    coeffs2=pywt.dwt2(img,'haar')\n",
    "    LL, (LH, HL, HH) = coeffs2\n",
    "    LL=np.uint8(LL)\n",
    "    LH=np.uint8(LH)\n",
    "    HL=np.uint8(HL)\n",
    "    HH=np.uint8(HH)\n",
    "    coffes2=LL,(LH,HL,HH)\n",
    "    wt_img = pywt.idwt2(coffes2,'haar')\n",
    "    rows, cols = img.shape\n",
    "    norm_img = np.zeros((rows, cols))\n",
    "    wt_img = cv2.normalize(wt_img,  norm_img, 0, 255, cv2.NORM_MINMAX)\n",
    "    \n",
    "    return wt_img"
   ]
  },
  {
   "cell_type": "code",
   "execution_count": 6,
   "id": "6a9b08c7",
   "metadata": {},
   "outputs": [],
   "source": [
    "def bf(img):                                            #bilateral filter2\n",
    "    y_img = cv2.bilateralFilter(img,16,50,80)\n",
    "    rows, cols = img.shape\n",
    "    norm_img = np.zeros((rows, cols))\n",
    "    bf_img = cv2.normalize(y_img,  norm_img, 0, 255, cv2.NORM_MINMAX)\n",
    "    return bf_img"
   ]
  },
  {
   "cell_type": "code",
   "execution_count": 7,
   "id": "30f2abe1",
   "metadata": {},
   "outputs": [],
   "source": [
    "def bf2(img):                                         #bilateral filter2\n",
    "    y_img = cv2.bilateralFilter(img,20,5,8)\n",
    "    rows, cols = img.shape\n",
    "    norm_img = np.zeros((rows, cols))\n",
    "    bf_img = cv2.normalize(y_img,  norm_img, 0, 255, cv2.NORM_MINMAX)\n",
    "    return bf_img"
   ]
  },
  {
   "cell_type": "code",
   "execution_count": 8,
   "id": "a08974a8",
   "metadata": {},
   "outputs": [
    {
     "name": "stderr",
     "output_type": "stream",
     "text": [
      "C:\\Users\\subha\\AppData\\Local\\Temp\\ipykernel_31036\\3724126425.py:16: RuntimeWarning: divide by zero encountered in log\n",
      "  fshift_mask_mag = 1000 * np.log(cv2.magnitude(fshift[:, :, 0], fshift[:, :, 1]))\n"
     ]
    }
   ],
   "source": [
    "list_data = []\n",
    "list_label = []\n",
    "for i in range(100):\n",
    "    if (len(listt[i]) != 0):\n",
    "        for j in range(len(listt[i])):\n",
    "            img = cv2.imread(path[i][j], 0)\n",
    "            \n",
    "            wt_img= wt(img)\n",
    "            ft_img= ft(img)\n",
    "            bf_img= bf(img)\n",
    "            wt_img = np.uint8(wt_img)\n",
    "            wt_img = bf2(wt_img)\n",
    "            \n",
    "            f_img = []\n",
    "            for k in range (len(wt_img)):\n",
    "                f_img.append([])\n",
    "                for l in range (len(wt_img[k])):   #Final image have  80% bilateral filter 15% fourier transfored image and 5% wavelet transfored image\n",
    "                    f_img[k].append(np.round((0.05*wt_img[k][l]+.15*ft_img[k][l]+0.8*bf_img[k][l])))\n",
    "            img = np.uint8(f_img)\n",
    "            \n",
    "            mask = mask_img(img, listt[i][j])\n",
    "            cv2.imwrite(f_data_path[i][j],img)\n",
    "            cv2.imwrite(label_path[i][j],mask)\n",
    "            list_data.append(path[i][j])\n",
    "            list_label.append(label_path[i][j])"
   ]
  },
  {
   "cell_type": "code",
   "execution_count": 9,
   "id": "bfb85360",
   "metadata": {},
   "outputs": [],
   "source": [
    "def load_data(path):\n",
    "    x_train = sorted(glob(os.path.join(path, \"image\", \"*.jpg\")))\n",
    "    y_train = sorted(glob(os.path.join(path, \"mask\", \"*.jpg\")))\n",
    "    \n",
    "    return x_train, y_train\n",
    "\n"
   ]
  },
  {
   "cell_type": "code",
   "execution_count": 10,
   "id": "806bd7c6",
   "metadata": {},
   "outputs": [],
   "source": [
    "def augment_data(image, mask, save_path, augment = True):\n",
    "    size = (256,128)\n",
    "    # image crop shape\n",
    "    x1 = 58\n",
    "    x2 = 250\n",
    "    y1 = 86\n",
    "    y2 = 450\n",
    "    for idx, (X, Y) in tqdm(enumerate(zip(image, mask)), total = len(image)):\n",
    "        name = X.split(\"\\\\\")[-1].split(\".\")[0]\n",
    "        X = cv2.imread(X, cv2.IMREAD_COLOR)\n",
    "        Y = cv2.imread(Y, cv2.IMREAD_COLOR)\n",
    "        if augment == True:\n",
    "            pass\n",
    "        else:\n",
    "            x = [X[58:250,86:450]]\n",
    "            y = [Y[58:250,86:450]]\n",
    "        index = 0\n",
    "        for i,m in zip(x,y):\n",
    "            i = cv2.resize(i, size)\n",
    "            m = cv2.resize(m, size)\n",
    "            tem_img_name = f\"{name}.png\"\n",
    "            tem_mask_name = f\"{name}.png\"\n",
    "            \n",
    "            img_path = os.path.join(save_path, \"image\", tem_img_name)\n",
    "            mask_path = os.path.join(save_path, \"mask\", tem_mask_name)\n",
    "            \n",
    "            cv2.imwrite(img_path, i)\n",
    "            cv2.imwrite(mask_path, m)\n",
    "            \n",
    "            index+=1\n",
    "        "
   ]
  },
  {
   "cell_type": "code",
   "execution_count": 11,
   "id": "3fcc29ee",
   "metadata": {},
   "outputs": [],
   "source": [
    "def create_dir(path):\n",
    "    if not os.path.exists(path):\n",
    "        os.makedirs(path)"
   ]
  },
  {
   "cell_type": "code",
   "execution_count": 12,
   "id": "195bcc18",
   "metadata": {},
   "outputs": [
    {
     "name": "stdout",
     "output_type": "stream",
     "text": [
      "119 119\n"
     ]
    },
    {
     "name": "stderr",
     "output_type": "stream",
     "text": [
      "100%|███████████████████████████████████████████████████████████████████████████████| 119/119 [00:00<00:00, 120.30it/s]\n"
     ]
    }
   ],
   "source": [
    "if __name__ == \"__main__\":\n",
    "    path = \"C:\\\\Users\\\\subha\\\\OneDrive\\\\Documents\\\\th_cancer\"\n",
    "    x_train, y_train = load_data(path)\n",
    "    print(len(x_train),len(y_train))\n",
    "    create_dir(\"C:/Users/subha/OneDrive/Documents/th_cancer_data/new1_image/train/image\")\n",
    "    create_dir(\"C:/Users/subha/OneDrive/Documents/th_cancer_data/new1_image/train/mask\")\n",
    "    path = \"C:/Users/subha/OneDrive/Documents/th_cancer_data/new1_image/train\"\n",
    "    augment_data(x_train, y_train, path, augment = False)"
   ]
  },
  {
   "cell_type": "code",
   "execution_count": null,
   "id": "b0377cc2",
   "metadata": {},
   "outputs": [],
   "source": []
  },
  {
   "cell_type": "code",
   "execution_count": null,
   "id": "194f7db6",
   "metadata": {},
   "outputs": [],
   "source": []
  }
 ],
 "metadata": {
  "kernelspec": {
   "display_name": "Python 3 (ipykernel)",
   "language": "python",
   "name": "python3"
  },
  "language_info": {
   "codemirror_mode": {
    "name": "ipython",
    "version": 3
   },
   "file_extension": ".py",
   "mimetype": "text/x-python",
   "name": "python",
   "nbconvert_exporter": "python",
   "pygments_lexer": "ipython3",
   "version": "3.9.12"
  }
 },
 "nbformat": 4,
 "nbformat_minor": 5
}
